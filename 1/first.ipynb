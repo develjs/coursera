{
 "cells": [
  {
   "cell_type": "code",
   "execution_count": 255,
   "metadata": {},
   "outputs": [
    {
     "name": "stdout",
     "output_type": "stream",
     "text": [
      "male female= 577 314\n",
      "Survived(%)= 61.62\n",
      "1st class(%)= 24.24\n",
      "Age mean= 29.7\n",
      "Age median= 28.0\n",
      "Pirson= 0.41\n"
     ]
    }
   ],
   "source": [
    "import numpy as np\n",
    "import pandas\n",
    "import re\n",
    "data = pandas.read_csv('titanic.csv',index_col='PassengerId') # 891\n",
    "count = data.shape[0] # count all\n",
    "def percent(a,b,p=0):\n",
    "    return round(float(a)/float(b)*100,p)\n",
    "\n",
    "#1.\n",
    "male_count = len(np.nonzero(data['Sex']=='male')[0])\n",
    "female_count = len(np.nonzero(data['Sex']=='female')[0])\n",
    "print \"male female=\", male_count, female_count\n",
    "#2.\n",
    "survived = len(np.nonzero(data['Survived']==0)[0])\n",
    "non_survived = len(np.nonzero(data['Survived']==1)[0])\n",
    "print \"Survived(%)=\", percent(survived,count,2)\n",
    "#3.\n",
    "pclass1 = len(np.nonzero(data['Pclass']==1)[0])\n",
    "#pclass2 = len(np.nonzero(data['Pclass']==2)[0])\n",
    "#pclass3 = len(np.nonzero(data['Pclass']==3)[0])\n",
    "print \"1st class(%)=\",percent(pclass1,count,2)\n",
    "#4.\n",
    "print \"Age mean=\", round(data['Age'].mean(),2)\n",
    "print \"Age median=\", round(data['Age'].median(),2)\n",
    "#5\n",
    "#sibsp: brother, sister, stepbrother, stepsister, husband, wife \n",
    "#parch: mother, father, daughter, son, stepdaughter, stepson\n",
    "#http://www.machinelearning.ru/wiki/index.php?title=Коэффициент_корреляции_Пирсона\n",
    "sibsp = data['SibSp']\n",
    "parch = data['Parch']\n",
    "sibsp_mean = sibsp-sibsp.mean()\n",
    "parch_mean = parch-parch.mean()\n",
    "pirson = (sibsp_mean*parch_mean).sum() / pow(sibsp_mean.pow(2).sum()*parch_mean.pow(2).sum(), 0.5)\n",
    "print \"Pirson=\",round(pirson,2)\n",
    "#6\n",
    "#data.filter(items=np.nonzero(data['Sex']=='female')[0], axis=1)\n",
    "#f_name = data.filter(items=np.nonzero(data['Sex']=='female')[0]+1, axis=0)['Name']\n",
    "#miss = re.compile('miss\\.\\s+(\\S+)', re.IGNORECASE)\n",
    "#mrs  = re.compile('mrs\\.[^(]*\\(\\s*(\\S+)', re.IGNORECASE)\n",
    "#def my_func(a):\n",
    "#    match1 = miss.search(a)\n",
    "#    name = ''\n",
    "#    if match1:\n",
    "#         name = match1.group(1)\n",
    "#    match1 = mrs.search(a)\n",
    "#    if match1:\n",
    "#         name = match1.group(1)\n",
    "#        \n",
    "#    if name:\n",
    "#        return name\n",
    "#    #print a\n",
    "#    return a\n",
    "\n",
    "#f_name.transform(my_func).values\n",
    "    \n",
    "# Anna: 14\n",
    "# Elizabeth: 11\n",
    "# Margaret: 10\n",
    "# Mary: 13"
   ]
  },
  {
   "cell_type": "code",
   "execution_count": null,
   "metadata": {},
   "outputs": [],
   "source": []
  }
 ],
 "metadata": {
  "kernelspec": {
   "display_name": "Python 2",
   "language": "python",
   "name": "python2"
  },
  "language_info": {
   "codemirror_mode": {
    "name": "ipython",
    "version": 2
   },
   "file_extension": ".py",
   "mimetype": "text/x-python",
   "name": "python",
   "nbconvert_exporter": "python",
   "pygments_lexer": "ipython2",
   "version": "2.7.6"
  }
 },
 "nbformat": 4,
 "nbformat_minor": 2
}
